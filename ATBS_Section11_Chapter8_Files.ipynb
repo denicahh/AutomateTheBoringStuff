{
 "cells": [
  {
   "cell_type": "code",
   "execution_count": null,
   "metadata": {},
   "outputs": [],
   "source": [
    "#chapter 8 resource:  https://automatetheboringstuff.com/chapter8/ --> video section 11 of the Udemy course"
   ]
  },
  {
   "cell_type": "code",
   "execution_count": null,
   "metadata": {},
   "outputs": [],
   "source": [
    "#chapter 8/section 11: video 30: Filenames and Absolute/Relative File Paths (pages )"
   ]
  },
  {
   "cell_type": "code",
   "execution_count": 14,
   "metadata": {},
   "outputs": [
    {
     "name": "stdout",
     "output_type": "stream",
     "text": [
      "Hello this is a test file for the automate the boring stuff video 31 \n",
      "C:\\Users\\DHOPE\n"
     ]
    },
    {
     "data": {
      "text/plain": [
       "[['Zophie', 'Pooka', 'Simon', 'Fat-tail']]"
      ]
     },
     "execution_count": 14,
     "metadata": {},
     "output_type": "execute_result"
    }
   ],
   "source": [
    "#chapter 8/section 11: video 31: Reading and Writing Plaintext Files (pages 181-185 )\n",
    "\n",
    "#3 steps to reading and writing files in python\n",
    "\n",
    "#the open function - pass the path you want it to open\n",
    "\n",
    "#_________\n",
    "#read mode\n",
    "#__________\n",
    "helloFile = open('C:\\\\Users\\\\DHOPE\\\\hello.txt') #this will open the file in read mode, this is the default and returns a file object\n",
    "helloFile.read()    #this is a method that will return a string of the plaintext contents -- tested and worked \n",
    "helloFile.close()    #can only read through the file contents once, if you want to read it again, you have to reopen the file\n",
    "\n",
    "#saving the contents in a variable\n",
    "helloFile = open('C:\\\\Users\\\\DHOPE\\\\hello.txt') #this will open the file in read mode, this is the default and returns a file object\n",
    "content = helloFile.read()    #this is a method that will return a string of the plaintext contents -- tested and worked \n",
    "print(content)\n",
    "helloFile.close()    #can only read through the file contents once, if you want to read it again, you have to reopen the file\n",
    "\n",
    "helloFile = open('C:\\\\Users\\\\DHOPE\\\\hello.txt')\n",
    "helloFile.readlines()    #will return the content as strings in a list/list of strings\n",
    "\n",
    "# to edit the file write mode and append mode - write mode will overwrite the contents, append mode will add it to the end\n",
    "#write mode is good for single long strings\n",
    "\n",
    "#__________\n",
    "#write mode\n",
    "#__________\n",
    "helloFile = open('C:\\\\Users\\\\DHOPE\\\\hello2.txt', 'w') # 'a' is append mode and 'w' is write mode\n",
    "helloFile.write('Helloooooo!!!!!')  #this will return how many characters it wrote to the file\n",
    "helloFile.close()  #have to close the file in python before you can open it in the location it is saved and see the information you have written to it, without closing it first, it will be blank\n",
    "\n",
    "baconFile = open('bacon.txt', 'w')   # if you don't specify the path to save, it will default save to the current working path/directory\n",
    "baconFile.write('Bacon is not a vegetable....')\n",
    "baconFile.close()\n",
    "\n",
    "import os   #so you can view the current working directory\n",
    "os.getcwd()\n",
    "print(os.getcwd()) # this is the default location it would have saved the bacon.txt file \n",
    "\n",
    "#__________\n",
    "#append mode\n",
    "#__________\n",
    "baconFile = open('bacon.txt', 'a')\n",
    "baconFile.write('\\n\\nBacon is not that great') \n",
    "baconFile.close()\n",
    "\n",
    "\n",
    "# shelve mode can be used to store variable that have lists/dictionary/other complex data structures \n",
    "\n",
    "#__________\n",
    "#shelve mode\n",
    "#__________\n",
    "import shelve\n",
    "shelfFile = shelve.open('mydata')  #this will save it as a binary file (3 files .bak .dat .dir)\n",
    "shelfFile['cats'] = ['Zophie', 'Pooka', 'Simon', 'Fat-tail']\n",
    "shelfFile.close()\n",
    "\n",
    "shelfFile = shelve.open('mydata')\n",
    "shelfFile['cats']   #can grab the information just like you would for a dictionary\n",
    "\n",
    "#keys and values shelf methods similar to dictionaries \n",
    "shelfFile = shelve.open('mydata')\n",
    "shelfFile.keys()\n",
    "list(shelfFile.keys())  #convert to a list to view easier\n",
    "list(shelfFile.values())\n",
    "\n"
   ]
  },
  {
   "cell_type": "code",
   "execution_count": null,
   "metadata": {},
   "outputs": [],
   "source": [
    "#chapter 8/section 11: video 32: Copying and Moving Files and Folders (pages 197 - 200 )\n",
    "\n",
    "#shell utilities module lets you copy/move/rename files\n",
    "\n",
    "import shutil\n",
    "\n",
    "#copy function copies one file \n",
    "shutil.copy('c:\\\\spam txt', 'c:\\\\delicious')    #the first path is where the file currently is and the second one is where you want to copy it to\n",
    "shutil.copy('c:\\\\spam txt', 'c:\\\\delicious\\\\spamspamspam.txt')   #you can also rename the file you are copying\n",
    "\n",
    "#copytree copies a folder \n",
    "shutil.copytree('c:\\\\delicious', 'c:\\\\delicious_backup')\n",
    "\n",
    "#move a file to a new location\n",
    "shutil.move('c:\\\\spam txt', 'c:\\\\delicious')\n",
    "\n",
    "#there is no rename function, need to use move/copy function and specify new name in the function\n",
    "shutil.copytree('c:\\\\delicious\\\\spam.txt', 'c:\\\\delicious\\\\walnut.txt') #renamed from spam to walnut "
   ]
  },
  {
   "cell_type": "code",
   "execution_count": null,
   "metadata": {},
   "outputs": [],
   "source": [
    "#chapter 8/section 11: video 33: Deleting Files (pages 200-202 )\n",
    "\n",
    "#IMPORTANT when files are deleted with this method they will not be sent to recycling bin, they will be permanently deleted \n",
    "#print the names of the files/folders to be deleted and review that list before implementing the delete function (called a dry run)\n",
    "\n",
    "#3 functions that can be used to delete files \n",
    "\n",
    "#os.unlink to delete a single file \n",
    "import os\n",
    "os.getcwd()\n",
    "os.unlink('bacon.txt')  \n",
    "\n",
    "#os.rmdir to delete an entire folder - but it will only work if completely empty, will not work if the folder has other folders or files inside it\n",
    "os.rmdir('c:\\\\delicious')\n",
    "\n",
    "#shutil.rmtree to remove a folder and all of its contents \n",
    "import shutil\n",
    "shutil.rmtree('c:\\\\delicious') # will delete this entire folder and all of its contents permanently \n",
    "\n",
    "#___________________________________________\n",
    "#SEND TO TRASH can be used to send to recycling bin - might need to install the module with pip.exe install send2trash but it comes as part of anaconda3\n",
    "#___________________________________________\n",
    "import send2trash\n",
    "\n",
    "send2trash.send2trash('c:\\\\users\\\\al\\\\desktop\\important.rxt') #it will appear in the recycling bin\n",
    "\n"
   ]
  },
  {
   "cell_type": "code",
   "execution_count": 31,
   "metadata": {},
   "outputs": [],
   "source": [
    "#chapter 8/section 11: video 34: Walking a Directory Tree \n",
    "\n",
    "#os.walk function allows us to write code/perform an action against thousands/all files on computer\n",
    "\n",
    "import os\n",
    "os.getcwd()\n",
    "for folderName, subfolders, filenames in os.walk('C:\\\\Users\\\\DHOPE\\\\Downloads'):  #to view all the files and folders in this location. This will be in a for loop and will return 3 values at each iteration\n",
    " print('The folder is ' + folderName)\n",
    " print('The subfolders in ' + folderName + ' are: ' + str(subfolders))\n",
    " print('The filenames in ' + folderName + ' are: ' + str(filenames))\n",
    " print()\n",
    "    \n",
    "#at first this returned nothing but this was due to indenting too far, i had indented to align with folderName, there was no error given, it just returned nothing\n",
    "\n",
    " for subfolder in subfolders:\n",
    "    if 'fish' in subfolder:\n",
    "        #os.rmdir(subfolder)  #comment out for dry run and check the print output first\n",
    "        print('rmdir on ' + subfolder)\n",
    "            \n",
    " for file in filenames:\n",
    "    if file.endswith('.py'):\n",
    "        shutil.copy(os.join(folderName, file), os.join(folderName, file + '.backup'))\n",
    "\n"
   ]
  },
  {
   "cell_type": "code",
   "execution_count": null,
   "metadata": {},
   "outputs": [],
   "source": []
  }
 ],
 "metadata": {
  "kernelspec": {
   "display_name": "Python 3",
   "language": "python",
   "name": "python3"
  },
  "language_info": {
   "codemirror_mode": {
    "name": "ipython",
    "version": 3
   },
   "file_extension": ".py",
   "mimetype": "text/x-python",
   "name": "python",
   "nbconvert_exporter": "python",
   "pygments_lexer": "ipython3",
   "version": "3.7.6"
  }
 },
 "nbformat": 4,
 "nbformat_minor": 4
}
