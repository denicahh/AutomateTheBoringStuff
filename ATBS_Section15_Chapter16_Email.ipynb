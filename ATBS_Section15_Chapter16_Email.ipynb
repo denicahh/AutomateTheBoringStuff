{
 "cells": [
  {
   "cell_type": "code",
   "execution_count": null,
   "metadata": {},
   "outputs": [],
   "source": [
    "#chapter 16 resource:  https://automatetheboringstuff.com/chapter16/  --> video section 15 of the online Udemy course"
   ]
  },
  {
   "cell_type": "code",
   "execution_count": 4,
   "metadata": {},
   "outputs": [
    {
     "ename": "SMTPAuthenticationError",
     "evalue": "(535, b'5.7.8 Username and Password not accepted. Learn more at\\n5.7.8  https://support.google.com/mail/?p=BadCredentials v125sm19601592pgv.6 - gsmtp')",
     "output_type": "error",
     "traceback": [
      "\u001b[1;31m---------------------------------------------------------------------------\u001b[0m",
      "\u001b[1;31mSMTPAuthenticationError\u001b[0m                   Traceback (most recent call last)",
      "\u001b[1;32m<ipython-input-4-1204f03fe1dd>\u001b[0m in \u001b[0;36m<module>\u001b[1;34m\u001b[0m\n\u001b[0;32m     14\u001b[0m \u001b[0mconn\u001b[0m\u001b[1;33m.\u001b[0m\u001b[0mstarttls\u001b[0m\u001b[1;33m(\u001b[0m\u001b[1;33m)\u001b[0m\u001b[1;33m\u001b[0m\u001b[1;33m\u001b[0m\u001b[0m\n\u001b[0;32m     15\u001b[0m \u001b[1;31m#login -- since I am going to upload this to github i am not going to put my actual details in here because i will probably forget and then compromise my account\u001b[0m\u001b[1;33m\u001b[0m\u001b[1;33m\u001b[0m\u001b[1;33m\u001b[0m\u001b[0m\n\u001b[1;32m---> 16\u001b[1;33m \u001b[0mconn\u001b[0m\u001b[1;33m.\u001b[0m\u001b[0mlogin\u001b[0m\u001b[1;33m(\u001b[0m\u001b[1;34m'user@gmail.com'\u001b[0m\u001b[1;33m,\u001b[0m \u001b[1;34m'password'\u001b[0m\u001b[1;33m)\u001b[0m\u001b[1;33m\u001b[0m\u001b[1;33m\u001b[0m\u001b[0m\n\u001b[0m\u001b[0;32m     17\u001b[0m \u001b[1;33m\u001b[0m\u001b[0m\n\u001b[0;32m     18\u001b[0m \u001b[0mconn\u001b[0m\u001b[1;33m.\u001b[0m\u001b[0msendmail\u001b[0m\u001b[1;33m(\u001b[0m\u001b[1;34m'user@gmail.com'\u001b[0m\u001b[1;33m,\u001b[0m \u001b[1;34m'userto@gmail.com'\u001b[0m\u001b[1;33m,\u001b[0m \u001b[1;34m'Subject: So long...\\n\\nDear Al, \\nSo long, and thanks for all the fish.\\n\\n-Al'\u001b[0m\u001b[1;33m)\u001b[0m\u001b[1;33m\u001b[0m\u001b[1;33m\u001b[0m\u001b[0m\n",
      "\u001b[1;32m~\\Anaconda3\\lib\\smtplib.py\u001b[0m in \u001b[0;36mlogin\u001b[1;34m(self, user, password, initial_response_ok)\u001b[0m\n\u001b[0;32m    728\u001b[0m \u001b[1;33m\u001b[0m\u001b[0m\n\u001b[0;32m    729\u001b[0m         \u001b[1;31m# We could not login successfully.  Return result of last attempt.\u001b[0m\u001b[1;33m\u001b[0m\u001b[1;33m\u001b[0m\u001b[1;33m\u001b[0m\u001b[0m\n\u001b[1;32m--> 730\u001b[1;33m         \u001b[1;32mraise\u001b[0m \u001b[0mlast_exception\u001b[0m\u001b[1;33m\u001b[0m\u001b[1;33m\u001b[0m\u001b[0m\n\u001b[0m\u001b[0;32m    731\u001b[0m \u001b[1;33m\u001b[0m\u001b[0m\n\u001b[0;32m    732\u001b[0m     \u001b[1;32mdef\u001b[0m \u001b[0mstarttls\u001b[0m\u001b[1;33m(\u001b[0m\u001b[0mself\u001b[0m\u001b[1;33m,\u001b[0m \u001b[0mkeyfile\u001b[0m\u001b[1;33m=\u001b[0m\u001b[1;32mNone\u001b[0m\u001b[1;33m,\u001b[0m \u001b[0mcertfile\u001b[0m\u001b[1;33m=\u001b[0m\u001b[1;32mNone\u001b[0m\u001b[1;33m,\u001b[0m \u001b[0mcontext\u001b[0m\u001b[1;33m=\u001b[0m\u001b[1;32mNone\u001b[0m\u001b[1;33m)\u001b[0m\u001b[1;33m:\u001b[0m\u001b[1;33m\u001b[0m\u001b[1;33m\u001b[0m\u001b[0m\n",
      "\u001b[1;32m~\\Anaconda3\\lib\\smtplib.py\u001b[0m in \u001b[0;36mlogin\u001b[1;34m(self, user, password, initial_response_ok)\u001b[0m\n\u001b[0;32m    719\u001b[0m                 (code, resp) = self.auth(\n\u001b[0;32m    720\u001b[0m                     \u001b[0mauthmethod\u001b[0m\u001b[1;33m,\u001b[0m \u001b[0mgetattr\u001b[0m\u001b[1;33m(\u001b[0m\u001b[0mself\u001b[0m\u001b[1;33m,\u001b[0m \u001b[0mmethod_name\u001b[0m\u001b[1;33m)\u001b[0m\u001b[1;33m,\u001b[0m\u001b[1;33m\u001b[0m\u001b[1;33m\u001b[0m\u001b[0m\n\u001b[1;32m--> 721\u001b[1;33m                     initial_response_ok=initial_response_ok)\n\u001b[0m\u001b[0;32m    722\u001b[0m                 \u001b[1;31m# 235 == 'Authentication successful'\u001b[0m\u001b[1;33m\u001b[0m\u001b[1;33m\u001b[0m\u001b[1;33m\u001b[0m\u001b[0m\n\u001b[0;32m    723\u001b[0m                 \u001b[1;31m# 503 == 'Error: already authenticated'\u001b[0m\u001b[1;33m\u001b[0m\u001b[1;33m\u001b[0m\u001b[1;33m\u001b[0m\u001b[0m\n",
      "\u001b[1;32m~\\Anaconda3\\lib\\smtplib.py\u001b[0m in \u001b[0;36mauth\u001b[1;34m(self, mechanism, authobject, initial_response_ok)\u001b[0m\n\u001b[0;32m    640\u001b[0m         \u001b[1;32mif\u001b[0m \u001b[0mcode\u001b[0m \u001b[1;32min\u001b[0m \u001b[1;33m(\u001b[0m\u001b[1;36m235\u001b[0m\u001b[1;33m,\u001b[0m \u001b[1;36m503\u001b[0m\u001b[1;33m)\u001b[0m\u001b[1;33m:\u001b[0m\u001b[1;33m\u001b[0m\u001b[1;33m\u001b[0m\u001b[0m\n\u001b[0;32m    641\u001b[0m             \u001b[1;32mreturn\u001b[0m \u001b[1;33m(\u001b[0m\u001b[0mcode\u001b[0m\u001b[1;33m,\u001b[0m \u001b[0mresp\u001b[0m\u001b[1;33m)\u001b[0m\u001b[1;33m\u001b[0m\u001b[1;33m\u001b[0m\u001b[0m\n\u001b[1;32m--> 642\u001b[1;33m         \u001b[1;32mraise\u001b[0m \u001b[0mSMTPAuthenticationError\u001b[0m\u001b[1;33m(\u001b[0m\u001b[0mcode\u001b[0m\u001b[1;33m,\u001b[0m \u001b[0mresp\u001b[0m\u001b[1;33m)\u001b[0m\u001b[1;33m\u001b[0m\u001b[1;33m\u001b[0m\u001b[0m\n\u001b[0m\u001b[0;32m    643\u001b[0m \u001b[1;33m\u001b[0m\u001b[0m\n\u001b[0;32m    644\u001b[0m     \u001b[1;32mdef\u001b[0m \u001b[0mauth_cram_md5\u001b[0m\u001b[1;33m(\u001b[0m\u001b[0mself\u001b[0m\u001b[1;33m,\u001b[0m \u001b[0mchallenge\u001b[0m\u001b[1;33m=\u001b[0m\u001b[1;32mNone\u001b[0m\u001b[1;33m)\u001b[0m\u001b[1;33m:\u001b[0m\u001b[1;33m\u001b[0m\u001b[1;33m\u001b[0m\u001b[0m\n",
      "\u001b[1;31mSMTPAuthenticationError\u001b[0m: (535, b'5.7.8 Username and Password not accepted. Learn more at\\n5.7.8  https://support.google.com/mail/?p=BadCredentials v125sm19601592pgv.6 - gsmtp')"
     ]
    }
   ],
   "source": [
    "#chapter 16/section 15: video 46: Sending Emails \n",
    "#can use this to send notifications, say when you are web scraping it can send you an email when it finds something , or send bulk emails like going through a spreadsheet to find people behind dues \n",
    "\n",
    "#SMTP Simple Mail Transfer Protocol \n",
    "#python uses smtplib \n",
    "\n",
    "import smtplib\n",
    "#create a connection object\n",
    "conn = smtplib.SMTP('smtp.gmail.com', 587) #port number usually 587\n",
    "#connect to the server \n",
    "conn.ehlo() #call this function to start connection #anything that return 200 means okay, so 250 means it connected, the second object is a bytes object which is beyond the scope of this lesson\n",
    "\n",
    "#start the tls encrpytion so when we send our password it is encrypted \n",
    "conn.starttls()\n",
    "#login -- since I am going to upload this to github i am not going to put my actual details in here because i will probably forget and then compromise my account \n",
    "conn.login('user@gmail.com', 'password')\n",
    "\n",
    "conn.sendmail('user@gmail.com', 'userto@gmail.com', 'Subject: So long...\\n\\nDear Al, \\nSo long, and thanks for all the fish.\\n\\n-Al')\n",
    "#can send multiple emails at a time, and if you get a blank dictionary back, email was sent correctly, the dictionary would contain failed send email addresses \n",
    "#first field is same email address you used to login to the server, second email address is who it is being sent to and then the subject\n",
    "\n",
    "conn.quit \n",
    "#(disconnect from SMTP server)\n",
    "\n",
    "\n",
    "\n",
    "\n",
    "\n",
    "\n"
   ]
  },
  {
   "cell_type": "code",
   "execution_count": null,
   "metadata": {},
   "outputs": [],
   "source": [
    "#chapter 16/section 15: video 46: Checking your email inbox \n",
    "\n",
    "#going to use 2 third party modules for this lesson \n",
    "#pip install imapclient and pip install pyzmail \n",
    "\n",
    "#received an error when trying to install pyzmail, it referred me to the logs -- AttributeError: module 'importlib._bootstrap' has no attribute 'SourceFileLoader'\n",
    "# was able to get it to install using pip install pyzmail36 instead which is a fork of pyzmail modified to be pip-installable on Python 3.6 https://pypi.org/project/pyzmail36/\n",
    "\n",
    "import imapclient\n",
    "conn = imapclient.IMAPClient('imap.gmail.com', ssl=True) #connecting to domain gmail and ssl is the encrpytion \n",
    "#login -- since I am going to upload this to github i am not going to put my actual details in here because i will probably forget and then compromise my account \n",
    "conn.login('user@gmail.com', 'password')\n",
    "\n",
    "conn.select_folder('INBOX', readonly=True) #set this as read only to make sure no modifications such as delete occur \n",
    "#have to pass it list of strings to search\n",
    "UIDS = conn.search(['SINCE 20-Aug-2015'])\n",
    "#will return integers for all emails received since 20 August 2015. \n",
    "#to translate integer into an email \n",
    "#using the integers frmo the ATBS video - this value will change when you do this with your own email\n",
    "rawMessage = conn.fetch([47474], ['BODY[]', 'FLAGS'])\n",
    "\n",
    "#use pyzemail to parse the email \n",
    "import pyzmail #not sure if i use pyzmail or pyzmail36\n",
    "\n",
    "message = pyzmail.PyzMessage.factory(rawMessage[47474] [b'BODY[]']) #this returns a pyzmessage variable \n",
    "message.get_subject()\n",
    "message.get_addresses('from')\n",
    "message.get_addresses('to')\n",
    "\n",
    "#check if text or html email or both\n",
    "\n",
    "message.text_part #if text part is set to none, then no text \n",
    "message.html_part \n",
    "\n"
   ]
  }
 ],
 "metadata": {
  "kernelspec": {
   "display_name": "Python 3",
   "language": "python",
   "name": "python3"
  },
  "language_info": {
   "codemirror_mode": {
    "name": "ipython",
    "version": 3
   },
   "file_extension": ".py",
   "mimetype": "text/x-python",
   "name": "python",
   "nbconvert_exporter": "python",
   "pygments_lexer": "ipython3",
   "version": "3.7.6"
  }
 },
 "nbformat": 4,
 "nbformat_minor": 4
}
