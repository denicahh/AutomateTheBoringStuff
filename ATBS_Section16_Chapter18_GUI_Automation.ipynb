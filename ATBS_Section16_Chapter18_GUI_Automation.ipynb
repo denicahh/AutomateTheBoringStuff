{
 "cells": [
  {
   "cell_type": "code",
   "execution_count": null,
   "metadata": {},
   "outputs": [],
   "source": [
    "#chapter 18 resource:  https://automatetheboringstuff.com/chapter18/  --> video section 16 of the online Udemy course"
   ]
  },
  {
   "cell_type": "code",
   "execution_count": null,
   "metadata": {},
   "outputs": [],
   "source": [
    "#chapter 18/section 16: video 48: Controlling the Mouse from Python\n",
    "\n",
    "#pip install pyautogui\n",
    "\n",
    "#https://pyautogui.readthedocs.org/en/latest/\n",
    "\n",
    "#the screen is a cartesian coordinate system with x and y - x is left to right and y is up to down and combined these can point to any point on the screen\n",
    "#in computing 0,0 is in the top left corner of the screen \n",
    "#x axis increase going to the right\n",
    "#y axis increase going down (opposite of y coordinates in mathematics)\n",
    "\n",
    "import pyautogui\n",
    "#to return screen resolution\n",
    "screen = pyautogui.size()\n",
    "print(screen)\n",
    "\n",
    "width, height = pyautogui.size()\n",
    "width\n",
    "height\n",
    "\n",
    "#return current coordinates of the mouse curser\n",
    "pyautogui.position()\n",
    "\n",
    "pyautogui.moveTo(10,10)\n",
    "pyautogui.moveTo(10,10, duration=1.5)  #change the speed the mouse moves to those coordinates - this is set to 1.5 seconds\n",
    "\n",
    "pyautogui.moveRel(200,0, duration=2)  #move the mouse to a relative location, pass it offset coordinates, so this is moving it x=200 which moves it right and y=0 which means it just moves across the page\n",
    "\n",
    "pyautogui.click(339,38) #click the mouse at these coordinates \n",
    "\n",
    "pyautogui.doubleClick(339,38) #can also right click and middle click and dragrel and dragto (will hold down the mouse and move)\n",
    "\n",
    "#example provided was to draw in paint \n",
    "\n",
    "#be careful as when the program is running you cannot click anywhere else so pygui has a failsafe - if you are able to move it to 0,0 pyautogui will cut off the program \n",
    "#pyautogui has a tenth of a second pause after every instruction which should give you enough time to move to 0,0\n",
    "#FAILSAFE will stop the program \n",
    "\n",
    "#in a terminal can run pyautogui.displayMousePosition() which shows the real time position/coordinates of the mouse and also the RGB values \n",
    "\n",
    "#when i ran this in jupyer notebook the ctrl+c to quit did not work , clearing the output did not work, removing the line of code did not work\n",
    "#it just kept printing lines and lines of mouse coordinates so i had to close the doc without saving\n"
   ]
  },
  {
   "cell_type": "code",
   "execution_count": null,
   "metadata": {},
   "outputs": [],
   "source": [
    "#chapter 18/section 16: video 49: Controlling the Keyboard from Python\n",
    "\n",
    "import pyautogui\n",
    "\n",
    "#can run two functions with a semicolon seperating them \n",
    "\n",
    "pyautogui.typwrite('Hello World')\n",
    "\n",
    "#in the example, the host has notepad open to run the examples, but I am not going to do this today  \n"
   ]
  },
  {
   "cell_type": "code",
   "execution_count": null,
   "metadata": {},
   "outputs": [],
   "source": [
    "#chapter 18/section 16: video 50: Screenshots and Image Recognition\n",
    "\n",
    "#pyautogui has screenshot features \n",
    "import pyautogui\n",
    "\n",
    "pyautogui.screenshot('C:\\\\Users\\\\DHOPE\\\\Pictures\\\\screenshot_example.png')\n",
    "\n",
    "#mine didn't save a screenshot hmmmm??? \n",
    "\n",
    "\n",
    "\n"
   ]
  },
  {
   "cell_type": "code",
   "execution_count": null,
   "metadata": {},
   "outputs": [],
   "source": []
  }
 ],
 "metadata": {
  "kernelspec": {
   "display_name": "Python 3",
   "language": "python",
   "name": "python3"
  },
  "language_info": {
   "codemirror_mode": {
    "name": "ipython",
    "version": 3
   },
   "file_extension": ".py",
   "mimetype": "text/x-python",
   "name": "python",
   "nbconvert_exporter": "python",
   "pygments_lexer": "ipython3",
   "version": "3.7.6"
  }
 },
 "nbformat": 4,
 "nbformat_minor": 4
}
