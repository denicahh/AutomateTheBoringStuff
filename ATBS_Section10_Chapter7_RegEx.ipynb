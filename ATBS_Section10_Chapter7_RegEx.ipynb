{
 "cells": [
  {
   "cell_type": "code",
   "execution_count": null,
   "metadata": {},
   "outputs": [],
   "source": [
    "#chapter 7 resource:  https://automatetheboringstuff.com/chapter7/  --> video section 10 of the online Udemy course\n",
    "\n",
    "#i have noticed that there are some differences in the way the code is written in the book vs this Udemy course, in most instances I have just followed the Udemy version"
   ]
  },
  {
   "cell_type": "code",
   "execution_count": 16,
   "metadata": {},
   "outputs": [
    {
     "name": "stdout",
     "output_type": "stream",
     "text": [
      "The number to call is: 415-555-1011\n"
     ]
    }
   ],
   "source": [
    "#chapter 7/section 10 of the online course - video 23 Regular Expression Basics\n",
    "import re #regex module\n",
    "message = 'Call me 415-555-1011 tomorrow, or at 415-555-999'\n",
    "\n",
    "phoneNumRegex = re.compile(r'\\d\\d\\d-\\d\\d\\d-\\d\\d\\d\\d') #regular expression object and the d stands for digit\n",
    "mo= phoneNumRegex.search(message) #mo=matched object   #search method included in the regular expression data type that returns a mo\n",
    "print('The number to call is: ' + mo.group()) #matched objects have a method called group which will tell you the text output"
   ]
  },
  {
   "cell_type": "code",
   "execution_count": 18,
   "metadata": {},
   "outputs": [
    {
     "data": {
      "text/plain": [
       "'man'"
      ]
     },
     "execution_count": 18,
     "metadata": {},
     "output_type": "execute_result"
    }
   ],
   "source": [
    "#chapter 7/section 10 of the online course - video 24 Regex Groups and the Pipe Character\n",
    "import re\n",
    "\n",
    "#can use brackets to mark out groups, groups are numbered starting from 1\n",
    "phoneNumRegex = re.compile(r'(\\d\\d\\d)-(\\d\\d\\d)-(\\d\\d\\d\\d)')\n",
    "mo= phoneNumRegex.search('Call me 415-555-4244')\n",
    "mo.group() #returns all results\n",
    "mo.group(3) #returns specific group from within the results\n",
    "mo.groups() #returns all groups at once\n",
    "\n",
    "#could be used when searching finance account strings or project codes\n",
    "\n",
    "#you can also search actual brackets, just need to include a slash\n",
    "phoneNumRegex = re.compile(r'\\(\\d\\d\\d\\)-(\\d\\d\\d)-(\\d\\d\\d\\d)')\n",
    "mo= phoneNumRegex.search('Call me (415)-555-4244')\n",
    "mo.group() \n",
    "\n",
    "#pipe character used to search any of the potential patterns but can only match one\n",
    "batRegex = re.compile(r'Bat(man|mobile|copter|bat)')\n",
    "mo = batRegex.search('Batmobile lost a wheel')\n",
    "mo.group()\n",
    "mo = batRegex.search('I am Batman and I have a Batmobile') #only returns the first instance of a match in this example only returns Batman\n",
    "mo.group() \n",
    "mo.group(1) #to find which suffix was found\n",
    "\n"
   ]
  },
  {
   "cell_type": "code",
   "execution_count": 35,
   "metadata": {},
   "outputs": [
    {
     "name": "stdout",
     "output_type": "stream",
     "text": [
      "Batman\n",
      "Batwoman\n",
      "Batwoman\n",
      "Batman\n",
      "Batwoman\n",
      "Batwoman\n",
      "Batwowowoman\n",
      "Batwowowoman\n",
      "+*?\n",
      "+*?+*?+*?+*?\n",
      "HaHaHa\n"
     ]
    },
    {
     "data": {
      "text/plain": [
       "<re.Match object; span=(0, 3), match='123'>"
      ]
     },
     "execution_count": 35,
     "metadata": {},
     "output_type": "execute_result"
    }
   ],
   "source": [
    "#chapter 7/section 10 of the online course - video 25 Repetition in Regex Patterns and Greedy/Nongreedy Matching\n",
    "import re\n",
    "\n",
    "#? this character is used to match the preceeding text 0 or 1 times\n",
    "batRegex = re.compile(r'Bat(wo)?man')\n",
    "mo = batRegex.search('The adventures of Batman')\n",
    "print(mo.group())\n",
    "mo = batRegex.search('The adventures of Batwoman')\n",
    "print(mo.group())\n",
    "mo = batRegex.search('The adventures of Batwoman and Batman') #only returns the first result in this example \"batwoman\" because it can only return it 0 or 1 times\n",
    "print(mo.group())\n",
    "mo = batRegex.search('The adventures of Batwowowoman') #returns nothing because it doesn't match the pattern\n",
    "\n",
    "\n",
    "\n",
    "phoneRegex = re.compile(r'(\\d\\d\\d-)?\\d\\d\\d-\\d\\d\\d\\d')\n",
    "phoneRegex.search('My phone number is 415-555-1234. Call me tomorrow')\n",
    "phoneRegex.search('My phone number is 555-1234. Call me tomorrow')\n",
    "\n",
    "#if you have to literally match a ? you can escape with a \\ in front of it\n",
    "# * means to match 0 or more times \n",
    "\n",
    "batRegex = re.compile(r'Bat(wo)*man')\n",
    "mo = batRegex.search('The adventures of Batman')\n",
    "print(mo.group())\n",
    "mo = batRegex.search('The adventures of Batwoman')\n",
    "print(mo.group())\n",
    "mo = batRegex.search('The adventures of Batwoman and Batman') \n",
    "print(mo.group())\n",
    "mo = batRegex.search('The adventures of Batwowowoman') \n",
    "print(mo.group())\n",
    "\n",
    "# + means match 1 or more \n",
    "\n",
    "batRegex = re.compile(r'Bat(wo)+man')\n",
    "mo = batRegex.search('The adventures of Batman') #returns none because wo is not part of this string\n",
    "mo = batRegex.search('The adventures of Batwowowoman') \n",
    "print(mo.group())\n",
    "\n",
    "regex = re.compile(r'\\+\\*\\?')\n",
    "p = regex.search('I learned about +*? regex syntax')\n",
    "print(p.group())\n",
    "\n",
    "regex = re.compile(r'(\\+\\*\\?)+') # the + indicates to match one or more of this group\n",
    "p = regex.search('I learned about +*?+*?+*?+*? regex syntax')\n",
    "print(p.group())\n",
    "\n",
    "haRegex = re.compile(r'(Ha){3}')\n",
    "p = haRegex.search('He said \"HaHaHa\"')\n",
    "print(p.group())\n",
    "\n",
    "#can be used to match phone numbers with an optional area code\n",
    "# comma is optional in this search pattern and curly brackets returns the number of times to match the pattern\n",
    "phoneRegex = re.compile(r'((\\d\\d\\d-)?\\d\\d\\d-\\d\\d\\d\\d(,)?){3}')\n",
    "phoneRegex.search('My numbers are 415-555-1234,555-4242,212-555-0000') #if you put a space between the comma and the next line it will not find a match\n",
    "phoneRegex = re.compile(r'((\\d\\d\\d-)?\\d\\d\\d-\\d\\d\\d\\d(,)?( )?){3}') #put in a space as an option to find\n",
    "phoneRegex.search('My numbers are 415-555-1234, 555-4242,212-555-0000')\n",
    "\n",
    "digitRegex = re.compile(r'(\\d){3,}') #search at for at least 3\n",
    "digitRegex.search('1234567890')\n",
    "\n",
    "digitRegex = re.compile(r'(\\d){3,5}') #search at for at least 3 and max 5 digits\n",
    "digitRegex.search('1234567890')\n",
    "\n",
    "#python regex starts as soon as possible, so the earlier results it finds it what it will return \n",
    "#regex does greedy matches so tries to match the maximum possible string that matches the pattern \n",
    "\n",
    "digitRegex = re.compile(r'(\\d){3,5}?') #search at for at least 3 and max 5 digits - can specify a ? which indicates to do a non-greedy match also means it will return the smallest possible string\n",
    "digitRegex.search('1234567890')"
   ]
  },
  {
   "cell_type": "code",
   "execution_count": 47,
   "metadata": {},
   "outputs": [
    {
     "name": "stdout",
     "output_type": "stream",
     "text": [
      "['o', 'o', 'o', 'e', 'a', 'a', 'o', 'o']\n",
      "['ea', 'oo']\n",
      "['R', 'b', 'c', 'p', ' ', 't', 's', ' ', 'b', 'b', 'y', ' ', 'f', 'd']\n"
     ]
    }
   ],
   "source": [
    "#chapter 7/section 10 of the online course - video 26 Regex character classes and the findall() method (pages 156 - 159)\n",
    "\n",
    "import re\n",
    "\n",
    "phoneRegex = re.compile(r'\\d\\d\\d-\\d\\d\\d-\\d\\d\\d\\d')\n",
    "#findall lets you search a string for all matches to the pattern \n",
    "resume = '''415-000-5555 blah blah i don't have the exact text that he used so i am making up my own home: 315-222-2222.'''\n",
    "phoneRegex.findall(resume)\n",
    "\n",
    "#findall doesn't find a match object like search does, it just returns a regular list value with regular string values that matched the pattern\n",
    "\n",
    "# \\d is a character class and represents any numeric digit from 0 to 9\n",
    "# \\D any character that is not a numeric digit from 0 to 9\n",
    "# \\w Any letter, numeric digit or the underscore character (matching word characters)\n",
    "# \\W Any character that is not a letter, numeric digit or the underscore character\n",
    "# \\s Any space, tab or newline character (matching space characters)\n",
    "# \\S Any character that is not a space, tab or newline \n",
    "\n",
    "# find some number followed by some word \n",
    "lyrics = '12 drummers drumming, 11 pipers piping, 10 lords aleaping, 9 ladies dancing, 8 maids a-milking, 7 swans a-swimming, 6 geese a-laying, 5 golden rings, 4 calling birds, 3 french hens, 2 turtle doves, and 1 partridge in a pear tree'\n",
    "\n",
    "XmasRegex = re.compile(r'\\d+\\s\\w+')\n",
    "XmasRegex.findall(lyrics)\n",
    "\n",
    "\n",
    "#making your own character classes by using [] square brackets to contain what you want to find\n",
    "\n",
    "vowelRegex = re.compile(r'[aeiouAEIOU]') #need to include the capital version as well because it is case sensitive when it searches like this\n",
    "lettersRegex = re.compile(r'[a-zA-Z]')\n",
    "\n",
    "p = vowelRegex.findall('Robocop eats baby food')\n",
    "print(p)\n",
    "\n",
    "vowelRegex = re.compile(r'[aeiouAEIOU]{2}') #matches two vowels in a row\n",
    "p = vowelRegex.findall('Robocop eats baby food')\n",
    "print(p)\n",
    "\n",
    "#if you add a ^ caret symbol at the start then it will match everything that is not specified - do the oppositve - negative character classes\n",
    "vowelRegex = re.compile(r'[^aeiouAEIOU]') #the ^ doesnt just mean letters but also punctuation and spaces, all other characters \n",
    "p = vowelRegex.findall('Robocop eats baby food')\n",
    "print(p)"
   ]
  },
  {
   "cell_type": "code",
   "execution_count": 34,
   "metadata": {},
   "outputs": [
    {
     "name": "stdout",
     "output_type": "stream",
     "text": [
      "['A', 'o', 'e', 'o', 'u', 'o', 'a', 'i', 'o', 'o', 'a', 'A', 'o', 'u', 'o', 'o', 'o', 'o', 'u']\n"
     ]
    }
   ],
   "source": [
    "#chapter 7/section 10 of the online course - video 27 Regex dot-star and the caret/dollar characters (pages 159-163)\n",
    "\n",
    "#Can use a caret symbol to indicate the match should occur at the start, can use a dollar sign at the end to show it should match at the end\n",
    "\n",
    "import re\n",
    "\n",
    "beginsWithHelloRegex = re.compile(r'^Hello') #needs to find Hello at the start of the string to find a match, Hello in the middle of the string would not be a match\n",
    "beginsWithHelloRegex.search('Hello There') \n",
    "beginsWithHelloRegex.search('he said \"Hello\"') #this returns none \n",
    "endsWithWorldRegex = re.compile(r'world!$')\n",
    "endsWithWorldRegex.search('hello world!')\n",
    "\n",
    "#can also find all the text\n",
    "allDigitsRegex = re.compile(r'^\\d+$')\n",
    "allDigitsRegex.search('32134135434') #finds a matching result\n",
    "allDigitsRegex.search('321341d35434') #does not find a matching result because it has a non-digit character\n",
    "\n",
    "# having a . stands for having any character except for the newline \n",
    "atRegex = re.compile(r'.at') #only finds 1 character preceeding at\n",
    "atRegex.findall('The cat in the hat sat on the flat mat.')\n",
    "\n",
    "atRegex = re.compile(r'.{1,2}at') #finds 1 or 2 of any character preceeding at, including white space characters (make sure you don't put a space between the curly bracket and at or it won't return anything)\n",
    "atRegex.findall('The cat in the hat sat on the flat mat.')\n",
    "\n",
    "#.* dot star to match anything/any pattern\n",
    "\"First name: Al Last Name: Sweigart\"\n",
    "nameRegex = re.compile(r'First Name: (.*) Last Name: (.*)') #this is case senstive so it will only find results if they match exactly what is written here\n",
    "nameRegex.findall('First Name: Al Last Name: Sweigart')\n",
    "\n",
    "#(.*) is greedy (always try to match as much text as possible) and (.*?) is non-greedy\n",
    "serve = '<To serve humans> for dinner.>'\n",
    "nongreedy = re.compile(r'<(.*?)>')\n",
    "nongreedy.findall(serve)\n",
    "\n",
    "greedy = re.compile(r'<(.*)>')\n",
    "greedy.findall(serve)\n",
    "\n",
    "#making dot match newlines with re.DOTALL\n",
    "\n",
    "prime = 'Serve the public trust.\\nProtect the innocent.\\nUphold the law.'\n",
    "#print(prime)\n",
    "dotStar = re.compile(r'.*', re.DOTALL)\n",
    "dotStar.search(prime)\n",
    "\n",
    "#re.IGNORECASE\n",
    "vowelRegex = re.compile(r'[aeiou]', re.IGNORECASE) #can also shorten it to re.I\n",
    "p=vowelRegex.findall('Al, why does your programming book talk About RoboCop so much?')\n",
    "print(p)"
   ]
  },
  {
   "cell_type": "code",
   "execution_count": 41,
   "metadata": {},
   "outputs": [
    {
     "data": {
      "text/plain": [
       "'Agent A**** gave the secret documents to Agent B****'"
      ]
     },
     "execution_count": 41,
     "metadata": {},
     "output_type": "execute_result"
    }
   ],
   "source": [
    "#chapter 7/section 10 of the online course - video 28 Regex sub() Method and Verbose Mode (pages 163 - 165)\n",
    "\n",
    "import re\n",
    "\n",
    "namesRegex = re.compile(r'Agent \\w+')\n",
    "namesRegex.findall('Agent Alice gave the secret documents to Agent Bob')\n",
    "\n",
    "namesRegex.sub('REDACTED', 'Agent Alice gave the secret documents to Agent Bob') #example of using find and substitute where it replaces the word after agent with redacted\n",
    "\n",
    "namesRegex = re.compile(r'Agent (\\w)\\w*')\n",
    "namesRegex.findall('Agent Alice gave the secret documents to Agent Bob')\n",
    "namesRegex.sub(r'Agent \\1****', 'Agent Alice gave the secret documents to Agent Bob') #\\1 means to use the text from group 1 in the replacement\n",
    "\n",
    "#verbose mode - white space is not part of the actual pattern, so can format to be more readable and add in comments within the string and they won't affect the pattern\n",
    "re.compile(r'''\n",
    "(\\d\\d\\d-)|   # area code without parenthesis, with dash\n",
    "(\\(\\d\\d\\d\\) ) # -or- area code with parens and no dash\n",
    "\\d\\d\\d   # first 3 digits \n",
    "-        # second dash\n",
    "\\d\\d\\d\\d  # last 4 digits ''',. re.VERBOSE)\n",
    "\n",
    "#using multiple options such as ignore case and verbose \n",
    "re.IGNORECASE | re.DOTALL | re.VERBOSE #bitwise OR operator  \n",
    "re.compile(r'''\n",
    "(\\d\\d\\d-)|   # area code without parenthesis, with dash\n",
    "(\\(\\d\\d\\d\\) ) # -or- area code with parens and no dash\n",
    "\\d\\d\\d   # first 3 digits \n",
    "-        # second dash\n",
    "\\d\\d\\d\\d  # last 4 digits ''',. re.VERBOSE | re.IGNORECASE)\n",
    "\n"
   ]
  },
  {
   "cell_type": "code",
   "execution_count": 36,
   "metadata": {},
   "outputs": [
    {
     "name": "stdout",
     "output_type": "stream",
     "text": [
      "['479-205-4874', '678-560-3485', '724-900-2986', '242-391-3183', '604-720-6426', '651-807-8065', '209-754-9111', '641-433-6698', '701-528-9851', '304-491-9583', '863-583-8107', '507-948-3980']\n",
      "['jmckay67@aol.com', 'tjordan@msn.com', 'ccross20@gmail.com', 'rayfords66@hotmail.com', 'jgentry@me.com', 'wcamacho57@icloud.com', 'qfranks@comcast.net', 'cygzfjd61@outlook.com', 'jfox39@live.com', 'aparker39@sbcglobal.net', 'mcdanie3354@att.net', 'uqcwsntti71@att.net', 'efrancis@optonline.net']\n"
     ]
    }
   ],
   "source": [
    "#chapter 7/section 10 of the online course - video 29: Regex Example Program: A phone and email scraper \n",
    "\n",
    "#copy and paste all phone numbers from the document https://automatetheboringstuff.com/files/examplePhoneEmailDirectory.pdf \n",
    "\n",
    "# create a series of TODO comments that tells us what we want our program to do\n",
    "\n",
    "#______________________________________\n",
    "\n",
    "#TODO: Create a regex for phone numbers \n",
    "#TODO: Create a regex for email addresses \n",
    "#TODO: Get the text off the clip board \n",
    "#TODO: Extract the email/phone numbers from this text\n",
    "#TODO: Copy the extracted email/phone to the clipboard \n",
    "\n",
    "#______________________________________\n",
    "\n",
    "import re, pyperclip\n",
    "#_______________________________\n",
    "###Create a regex for phone numbers\n",
    "phoneRegex = re.compile(r'''(      #this version doesn't work for some reason. \n",
    "(\\d{3}|\\(\\d{3}\\))?          # area code (optional)\n",
    "(\\s|-|\\.)?                  # first seperator\n",
    "(\\d{3})                     # first 3 digits\n",
    "(\\s|-|\\.)                   # separator\n",
    "(\\d{4)})                    # last 4 digits \n",
    "(((ext(\\.)?\\s|x)            # extension word part (optional)\n",
    "(\\d{2,5}))?)                # extension number part (optional)\n",
    "''',re.VERBOSE)###\n",
    "#____________________________\n",
    "phoneRegex2 = re.compile(r'''           #this version is working\n",
    "((\\d\\d\\d)|(\\(\\d\\d\\d\\)))?            # area code (optional)\n",
    "(\\s|-)                              # first seperator\n",
    "\\d\\d\\d                              # first 3 digits\n",
    "-                                   # separator\n",
    "\\d\\d\\d\\d                            # last 4 digits   \n",
    "(((ext(\\.)?\\s)|x)                   # extension word part (optional)    \n",
    "(\\d{2,5}))?                         # extension number part (optional)  \n",
    ")\n",
    "''', re.VERBOSE)\n",
    "\n",
    "#Create an email regex \n",
    "emailRegex = re.compile(r'''(\n",
    "[a-zA-Z0-9._%+-]+           # username\n",
    "@                           # @ symbol\n",
    "[a-zA-Z0-9.-]+              # domain name\n",
    "#(\\.[a-zA-Z]{2,4})           # dot something - this line was return .com etc twice so have commented out\n",
    ")''',re.VERBOSE)\n",
    "\n",
    "#Get the text off the clipboard\n",
    "text = pyperclip.paste()\n",
    "\n",
    "#Extract the email/phone from this text\n",
    "extractedPhone = phoneRegex2.findall(text)\n",
    "extractedEmail = emailRegex.findall(text)\n",
    "\n",
    "allPhoneNumbers = []\n",
    "for phoneNumber in extractedPhone: \n",
    "    allPhoneNumbers.append(phoneNumber[0])\n",
    "   \n",
    "print(allPhoneNumbers)\n",
    "print(extractedEmail)\n",
    "\n",
    "# Copy the extracted email/phone to the clipboard\n",
    "results = '\\n'.join(allPhoneNumbers) + '\\n' + '\\n'.join(extractedEmail)\n",
    "pyperclip.copy(results)   #verified that this does copy to the clipboard and can be pasted. \n",
    "\n",
    "\n",
    "#Literally just go to the document/text source, highlight and copy to the clipboard (ctrl+c) and then pyperclip will pick up the information from there\n",
    "#https://automatetheboringstuff.com/files/examplePhoneEmailDirectory.pdf  this is the file that i tested this on"
   ]
  },
  {
   "cell_type": "code",
   "execution_count": null,
   "metadata": {},
   "outputs": [],
   "source": []
  },
  {
   "cell_type": "code",
   "execution_count": null,
   "metadata": {},
   "outputs": [],
   "source": []
  }
 ],
 "metadata": {
  "kernelspec": {
   "display_name": "Python 3",
   "language": "python",
   "name": "python3"
  },
  "language_info": {
   "codemirror_mode": {
    "name": "ipython",
    "version": 3
   },
   "file_extension": ".py",
   "mimetype": "text/x-python",
   "name": "python",
   "nbconvert_exporter": "python",
   "pygments_lexer": "ipython3",
   "version": "3.7.6"
  }
 },
 "nbformat": 4,
 "nbformat_minor": 4
}
